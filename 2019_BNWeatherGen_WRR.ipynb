{
 "cells": [
  {
   "cell_type": "markdown",
   "metadata": {},
   "source": [
    "# Multisite Weather Generators using Bayesian Networks:\n",
    "## Worked Example using BNWeatherGen package\n",
    "\n",
    "##### Mikel N. Legasa, José Manuel Gutiérrez.\n",
    "\n",
    "This document presents the R code that reproduces the Bayesian network models of the paper *Multisite Weather Generators using Bayesian Networks: An illustrative case study for precipitation occurrence*, submitted to **Water Resources Research**.\n",
    "\n",
    "We briefly explain how to build the models presented in the paper, plot them, and use them to generate new precipitation series. This notebook makes use of the R package created for the purpose of using Bayesian networks as weather generators, [**BNWeatherGen**](https://github.com/MNLR/BNWeatherGen), and is included with the package."
   ]
  },
  {
   "cell_type": "markdown",
   "metadata": {},
   "source": [
    "This package relies on [**bnlearn**](https://www.bnlearn.com) to build the Bayesian networks, which in turn depends on the package [**gRain**](https://cran.r-project.org/web/packages/gRain/index.html), used for exact inference. `bnlearn` also requieres some additional dependencies which available through [Bioconductor](https://www.bioconductor.org). They need to be installed first, using the command:"
   ]
  },
  {
   "cell_type": "code",
   "execution_count": null,
   "metadata": {},
   "outputs": [],
   "source": [
    "if (!requireNamespace(\"BiocManager\", quietly = TRUE))\n",
    "    install.packages(\"BiocManager\")\n",
    "\n",
    "BiocManager::install(pkgs = c(\"Rgraphviz\", \"graph\", \"RBGL\"), quiet = T)"
   ]
  },
  {
   "cell_type": "markdown",
   "metadata": {},
   "source": [
    "The reader can afterwards install the package by using"
   ]
  },
  {
   "cell_type": "code",
   "execution_count": null,
   "metadata": {},
   "outputs": [],
   "source": [
    "devtools::install_github(\"MNLR/BNWeatherGen\")"
   ]
  },
  {
   "cell_type": "markdown",
   "metadata": {},
   "source": [
    "Note that the package has additional functionality that is currently being worked on, with some features still being experimental, e.g. predictive models. \n",
    "\n",
    "The datasets used in the paper are packed as `ECA11.Germany.JJA` and `ECA11.Germany.DJF`. They are already in the adequate format to be used as input to the functions (see bellow). Note that their format is that of the [*Climate4R*](https://github.com/SantanderMetGroup/Climate4R) bundle from Santander Meteorology Group, in particular the [loadeR](https://github.com/SantanderMetGroup/loadeR) library. They contain daily precipitation records used in the study, which range from 1979 to 2008, for a subset of 11 stations in southeast Germany extracted from the VALUE spatial validation experiment (A description of the experiment and the data can be found in [*Validation of spatial variability in downscaling results from the VALUE perfect predictor experiment*](https://doi.org/10.1002/joc.6024)). Precipitation has been discretized to 0/1 for absence/presence of precipitation, with `ECA11.Germany.DJF` containing observations from December, January and February (DJF season) and `ECA11.Germany.JJA` containing observations from June, July and August (JJA season). Throughout this notebook we use the `ECA11.Germany.JJA` dataset.\n",
    "\n",
    "We load the library and visualize the data, which is a list with the binary series stored in `ECA11.Germany.JJA$Data`. The other elements contain additional information like the coordinates of the stations, `ECA11.Germany.JJA$xyCoords`; and the dates, `ECA11.Germany.JJA$Dates`."
   ]
  },
  {
   "cell_type": "code",
   "execution_count": 1,
   "metadata": {},
   "outputs": [
    {
     "name": "stderr",
     "output_type": "stream",
     "text": [
      "Loading required package: bnlearn\n",
      "\n",
      "\n",
      "Attaching package: 'bnlearn'\n",
      "\n",
      "\n",
      "The following object is masked from 'package:stats':\n",
      "\n",
      "    sigma\n",
      "\n",
      "\n",
      "Loading required package: gRain\n",
      "\n",
      "Loading required package: gRbase\n",
      "\n",
      "\n",
      "Attaching package: 'gRbase'\n",
      "\n",
      "\n",
      "The following objects are masked from 'package:bnlearn':\n",
      "\n",
      "    ancestors, children, parents\n",
      "\n",
      "\n",
      "Loading required package: pbapply\n",
      "\n"
     ]
    },
    {
     "data": {
      "text/html": [
       "<table>\n",
       "<caption>A matrix: 6 × 11 of type dbl</caption>\n",
       "<tbody>\n",
       "\t<tr><td>0</td><td>1</td><td>0</td><td>0</td><td>1</td><td>1</td><td>1</td><td>0</td><td>0</td><td>0</td><td>0</td></tr>\n",
       "\t<tr><td>0</td><td>0</td><td>0</td><td>0</td><td>0</td><td>0</td><td>0</td><td>0</td><td>0</td><td>0</td><td>0</td></tr>\n",
       "\t<tr><td>0</td><td>0</td><td>0</td><td>0</td><td>0</td><td>0</td><td>0</td><td>0</td><td>0</td><td>0</td><td>0</td></tr>\n",
       "\t<tr><td>0</td><td>0</td><td>0</td><td>0</td><td>0</td><td>1</td><td>0</td><td>0</td><td>0</td><td>0</td><td>0</td></tr>\n",
       "\t<tr><td>1</td><td>1</td><td>0</td><td>0</td><td>1</td><td>0</td><td>1</td><td>1</td><td>1</td><td>1</td><td>1</td></tr>\n",
       "\t<tr><td>1</td><td>1</td><td>0</td><td>1</td><td>1</td><td>1</td><td>1</td><td>0</td><td>0</td><td>1</td><td>1</td></tr>\n",
       "</tbody>\n",
       "</table>\n"
      ],
      "text/latex": [
       "A matrix: 6 × 11 of type dbl\n",
       "\\begin{tabular}{lllllllllll}\n",
       "\t 0 & 1 & 0 & 0 & 1 & 1 & 1 & 0 & 0 & 0 & 0\\\\\n",
       "\t 0 & 0 & 0 & 0 & 0 & 0 & 0 & 0 & 0 & 0 & 0\\\\\n",
       "\t 0 & 0 & 0 & 0 & 0 & 0 & 0 & 0 & 0 & 0 & 0\\\\\n",
       "\t 0 & 0 & 0 & 0 & 0 & 1 & 0 & 0 & 0 & 0 & 0\\\\\n",
       "\t 1 & 1 & 0 & 0 & 1 & 0 & 1 & 1 & 1 & 1 & 1\\\\\n",
       "\t 1 & 1 & 0 & 1 & 1 & 1 & 1 & 0 & 0 & 1 & 1\\\\\n",
       "\\end{tabular}\n"
      ],
      "text/markdown": [
       "\n",
       "A matrix: 6 × 11 of type dbl\n",
       "\n",
       "| 0 | 1 | 0 | 0 | 1 | 1 | 1 | 0 | 0 | 0 | 0 |\n",
       "| 0 | 0 | 0 | 0 | 0 | 0 | 0 | 0 | 0 | 0 | 0 |\n",
       "| 0 | 0 | 0 | 0 | 0 | 0 | 0 | 0 | 0 | 0 | 0 |\n",
       "| 0 | 0 | 0 | 0 | 0 | 1 | 0 | 0 | 0 | 0 | 0 |\n",
       "| 1 | 1 | 0 | 0 | 1 | 0 | 1 | 1 | 1 | 1 | 1 |\n",
       "| 1 | 1 | 0 | 1 | 1 | 1 | 1 | 0 | 0 | 1 | 1 |\n",
       "\n"
      ],
      "text/plain": [
       "     [,1] [,2] [,3] [,4] [,5] [,6] [,7] [,8] [,9] [,10] [,11]\n",
       "[1,] 0    1    0    0    1    1    1    0    0    0     0    \n",
       "[2,] 0    0    0    0    0    0    0    0    0    0     0    \n",
       "[3,] 0    0    0    0    0    0    0    0    0    0     0    \n",
       "[4,] 0    0    0    0    0    1    0    0    0    0     0    \n",
       "[5,] 1    1    0    0    1    0    1    1    1    1     1    \n",
       "[6,] 1    1    0    1    1    1    1    0    0    1     1    "
      ]
     },
     "metadata": {},
     "output_type": "display_data"
    }
   ],
   "source": [
    "library(BNWeatherGen,  quiet)\n",
    "head(ECA11.Germany.JJA$Data)"
   ]
  },
  {
   "cell_type": "markdown",
   "metadata": {},
   "source": [
    "A descriptive network can be built using `buildDescriptive()`. For example, we replicate the Bayesian network shown in figure $1b$:"
   ]
  },
  {
   "cell_type": "code",
   "execution_count": 2,
   "metadata": {},
   "outputs": [
    {
     "name": "stdout",
     "output_type": "stream",
     "text": [
      "[1] \"Removed 92 observations with NA values.\"\n",
      "[1] \"Building Bayesian Network using tabu...\"\n",
      "[1] \"Done building Bayesian Network.\"\n"
     ]
    }
   ],
   "source": [
    "descriptive <- buildDescriptive(ECA11.Germany.JJA)"
   ]
  },
  {
   "cell_type": "markdown",
   "metadata": {},
   "source": [
    "Weather generators can be built using the function `buildWeatherGenerator`()`."
   ]
  },
  {
   "cell_type": "code",
   "execution_count": 3,
   "metadata": {},
   "outputs": [
    {
     "name": "stdout",
     "output_type": "stream",
     "text": [
      "[1] \"Removed 92 observations with NA values.\"\n",
      "[1] \"Building Bayesian Network using tabu...\"\n",
      "[1] \"Done building Bayesian Network.\"\n"
     ]
    }
   ],
   "source": [
    "model <- buildWeatherGenerator(ECA11.Germany.JJA)"
   ]
  },
  {
   "cell_type": "markdown",
   "metadata": {},
   "source": [
    "By default, tabu search is employed to find the optimum Directed Acyclic Graph (DAG). There are many different configuration options. The structure learning algorithm can be any of the algorithm provided by the `bnlearn` package (see https://www.bnlearn.com). Parameter learning can be done either using Maximum Likelihood Estimation (`\"mle\"`) or in a Bayesian setting (`\"bayes\"`). `structure.learning.args.list` is used to tune the parameters for the structure learning algorithm.\n",
    "\n",
    "For example, we train a model using Hill-Climbing algorithm and adjust the probability tables using Maximum Likelihood Estimation. We also modify the regularization parameter `k` in the score to $1.5$ and set the hill-climbing algorithm to restart $100$ times."
   ]
  },
  {
   "cell_type": "code",
   "execution_count": 4,
   "metadata": {},
   "outputs": [
    {
     "name": "stdout",
     "output_type": "stream",
     "text": [
      "[1] \"Removed 92 observations with NA values.\"\n",
      "[1] \"Building Bayesian Network using hc...\"\n"
     ]
    },
    {
     "name": "stderr",
     "output_type": "stream",
     "text": [
      "Warning message in check.penalty(k = extra.args$k, network = network, data = data, :\n",
      "\"using BIC with a non-standard penalty k = 1.5.\"\n"
     ]
    },
    {
     "name": "stdout",
     "output_type": "stream",
     "text": [
      "[1] \"Done building Bayesian Network.\"\n"
     ]
    }
   ],
   "source": [
    "model.hc <- buildWeatherGenerator(ECA11.Germany.JJA, structure.learning.algorithm = \"hc\", \n",
    "                                  param.learning.method = \"mle\", \n",
    "                                  structure.learning.args.list = list(k = 1.5, \n",
    "                                                                      restart = 100), \n",
    "                                  )"
   ]
  },
  {
   "cell_type": "markdown",
   "metadata": {},
   "source": [
    "The are many different configuration options, including e.g. the learning steps, the number of time slices considered and constraints to the learning algorithms. All of them are documented and can be checked with `?buildWeatherGenerator()`. As a final example, we reproduce figure $3b$ and $3c$, using the same parameters. Note that some variability can be expected:"
   ]
  },
  {
   "cell_type": "code",
   "execution_count": 5,
   "metadata": {
    "scrolled": false
   },
   "outputs": [
    {
     "name": "stdout",
     "output_type": "stream",
     "text": [
      "[1] \"Building intermediate DAG...\"\n",
      "[1] \"Done.\"\n",
      "[1] \"Removed 92 observations with NA values.\"\n",
      "[1] \"Building Bayesian Network using tabu...\"\n",
      "[1] \"Done building Bayesian Network.\"\n",
      "[1] \"Building intermediate DAG...\"\n",
      "[1] \"Done.\"\n",
      "[1] \"Removed 92 observations with NA values.\"\n",
      "[1] \"Building Bayesian Network using tabu...\"\n",
      "[1] \"Done building Bayesian Network.\"\n"
     ]
    }
   ],
   "source": [
    "model.figure3b <- buildWeatherGenerator(ECA11.Germany.JJA, \n",
    "                                        structure.learning.algorithm = \"tabu\", \n",
    "                                        param.learning.method = \"bayes\", \n",
    "                                        structure.learning.args.list = list(score = \"aic\", tabu = 10^4),\n",
    "                                        structure.learning.args.list2 = list(score = \"aic\", tabu = 10^4),\n",
    "                                        force.DD = NULL,\n",
    "                                        structure.learning.steps = 2, fix.intermediate = FALSE\n",
    "                                        )\n",
    "model.figure3c <- buildWeatherGenerator(ECA11.Germany.JJA, \n",
    "                                        structure.learning.algorithm = \"tabu\", \n",
    "                                        param.learning.method = \"bayes\", \n",
    "                                        structure.learning.args.list = list(score = \"aic\", tabu = 10^4),\n",
    "                                        force.DD = \"->\", \n",
    "                                        structure.learning.steps = 2,\n",
    "                                        structure.learning.args.list2 = list(score = \"aic\", tabu = 10^4), \n",
    "                                        fix.intermediate = TRUE\n",
    "                                        )"
   ]
  },
  {
   "cell_type": "markdown",
   "metadata": {},
   "source": [
    "We can plot both models and the descriptive network with the function `plotCBN()`"
   ]
  },
  {
   "cell_type": "code",
   "execution_count": 6,
   "metadata": {},
   "outputs": [
    {
     "data": {
      "image/png": "[encoded data removed]",
      "text/plain": [
       "plot without title"
      ]
     },
     "metadata": {
      "image/png": {
       "height": 420,
       "width": 420
      },
      "text/plain": {
       "height": 420,
       "width": 420
      }
     },
     "output_type": "display_data"
    },
    {
     "data": {
      "image/png": "[encoded data removed]",
      "text/plain": [
       "Plot with title \"Figure 3b\""
      ]
     },
     "metadata": {
      "image/png": {
       "height": 420,
       "width": 420
      },
      "text/plain": {
       "height": 420,
       "width": 420
      }
     },
     "output_type": "display_data"
    }
   ],
   "source": [
    "plotCBN(model.figure3b, vertex.label.dist = 0.5, title = \"Figure 3b\", \n",
    "        no.labels = T, return.plot = F, dev.new = F)"
   ]
  },
  {
   "cell_type": "code",
   "execution_count": 7,
   "metadata": {},
   "outputs": [
    {
     "data": {
      "image/png": "[encoded data removed]",
      "text/plain": [
       "plot without title"
      ]
     },
     "metadata": {
      "image/png": {
       "height": 420,
       "width": 420
      },
      "text/plain": {
       "height": 420,
       "width": 420
      }
     },
     "output_type": "display_data"
    },
    {
     "data": {
      "image/png": "[encoded data removed]",
      "text/plain": [
       "Plot with title \"Figure 3c\""
      ]
     },
     "metadata": {
      "image/png": {
       "height": 420,
       "width": 420
      },
      "text/plain": {
       "height": 420,
       "width": 420
      }
     },
     "output_type": "display_data"
    }
   ],
   "source": [
    "plotCBN(model.figure3c, vertex.label.dist = 0.5, title = \"Figure 3c\",\n",
    "        no.labels = T, return.plot = F, dev.new = F)"
   ]
  },
  {
   "cell_type": "code",
   "execution_count": 8,
   "metadata": {},
   "outputs": [
    {
     "data": {
      "image/png": "[encoded data removed]",
      "text/plain": [
       "plot without title"
      ]
     },
     "metadata": {
      "image/png": {
       "height": 420,
       "width": 420
      },
      "text/plain": {
       "height": 420,
       "width": 420
      }
     },
     "output_type": "display_data"
    },
    {
     "data": {
      "image/png": "[encoded data removed]",
      "text/plain": [
       "Plot with title \"Figure 1b\""
      ]
     },
     "metadata": {
      "image/png": {
       "height": 420,
       "width": 420
      },
      "text/plain": {
       "height": 420,
       "width": 420
      }
     },
     "output_type": "display_data"
    }
   ],
   "source": [
    "plotCBN(descriptive, dev.new = F, return.plot = F, title = \"Figure 1b\",\n",
    "        vertex.label.dist = 1)"
   ]
  },
  {
   "cell_type": "markdown",
   "metadata": {},
   "source": [
    "Finally, we can use the model to generate synthetic discrete precipitation series with the function `generateWeather()`"
   ]
  },
  {
   "cell_type": "code",
   "execution_count": 9,
   "metadata": {},
   "outputs": [
    {
     "name": "stdout",
     "output_type": "stream",
     "text": [
      "[1] \"Generating series of 100 slices ...\"\n",
      "  |======================================================================| 100%"
     ]
    },
    {
     "data": {
      "text/html": [
       "<table>\n",
       "<caption>A matrix: 6 × 11 of type dbl</caption>\n",
       "<thead>\n",
       "\t<tr><th></th><th scope=col>D.4004</th><th scope=col>D.4007</th><th scope=col>D.4079</th><th scope=col>D.4083</th><th scope=col>D.4472</th><th scope=col>D.4572</th><th scope=col>D.4617</th><th scope=col>D.483</th><th scope=col>D.488</th><th scope=col>D.4954</th><th scope=col>D.52</th></tr>\n",
       "</thead>\n",
       "<tbody>\n",
       "\t<tr><th scope=row>0</th><td>0</td><td>1</td><td>0</td><td>0</td><td>0</td><td>0</td><td>1</td><td>0</td><td>0</td><td>0</td><td>0</td></tr>\n",
       "\t<tr><th scope=row>1</th><td>1</td><td>0</td><td>1</td><td>0</td><td>0</td><td>0</td><td>1</td><td>1</td><td>1</td><td>1</td><td>1</td></tr>\n",
       "\t<tr><th scope=row>2</th><td>1</td><td>1</td><td>0</td><td>1</td><td>0</td><td>1</td><td>1</td><td>1</td><td>1</td><td>1</td><td>0</td></tr>\n",
       "\t<tr><th scope=row>3</th><td>1</td><td>1</td><td>1</td><td>1</td><td>0</td><td>1</td><td>1</td><td>1</td><td>1</td><td>1</td><td>1</td></tr>\n",
       "\t<tr><th scope=row>4</th><td>1</td><td>0</td><td>1</td><td>1</td><td>0</td><td>1</td><td>0</td><td>0</td><td>1</td><td>0</td><td>1</td></tr>\n",
       "\t<tr><th scope=row>5</th><td>0</td><td>1</td><td>1</td><td>1</td><td>1</td><td>1</td><td>1</td><td>1</td><td>1</td><td>1</td><td>1</td></tr>\n",
       "</tbody>\n",
       "</table>\n"
      ],
      "text/latex": [
       "A matrix: 6 × 11 of type dbl\n",
       "\\begin{tabular}{r|lllllllllll}\n",
       "  & D.4004 & D.4007 & D.4079 & D.4083 & D.4472 & D.4572 & D.4617 & D.483 & D.488 & D.4954 & D.52\\\\\n",
       "\\hline\n",
       "\t0 & 0 & 1 & 0 & 0 & 0 & 0 & 1 & 0 & 0 & 0 & 0\\\\\n",
       "\t1 & 1 & 0 & 1 & 0 & 0 & 0 & 1 & 1 & 1 & 1 & 1\\\\\n",
       "\t2 & 1 & 1 & 0 & 1 & 0 & 1 & 1 & 1 & 1 & 1 & 0\\\\\n",
       "\t3 & 1 & 1 & 1 & 1 & 0 & 1 & 1 & 1 & 1 & 1 & 1\\\\\n",
       "\t4 & 1 & 0 & 1 & 1 & 0 & 1 & 0 & 0 & 1 & 0 & 1\\\\\n",
       "\t5 & 0 & 1 & 1 & 1 & 1 & 1 & 1 & 1 & 1 & 1 & 1\\\\\n",
       "\\end{tabular}\n"
      ],
      "text/markdown": [
       "\n",
       "A matrix: 6 × 11 of type dbl\n",
       "\n",
       "| <!--/--> | D.4004 | D.4007 | D.4079 | D.4083 | D.4472 | D.4572 | D.4617 | D.483 | D.488 | D.4954 | D.52 |\n",
       "|---|---|---|---|---|---|---|---|---|---|---|---|\n",
       "| 0 | 0 | 1 | 0 | 0 | 0 | 0 | 1 | 0 | 0 | 0 | 0 |\n",
       "| 1 | 1 | 0 | 1 | 0 | 0 | 0 | 1 | 1 | 1 | 1 | 1 |\n",
       "| 2 | 1 | 1 | 0 | 1 | 0 | 1 | 1 | 1 | 1 | 1 | 0 |\n",
       "| 3 | 1 | 1 | 1 | 1 | 0 | 1 | 1 | 1 | 1 | 1 | 1 |\n",
       "| 4 | 1 | 0 | 1 | 1 | 0 | 1 | 0 | 0 | 1 | 0 | 1 |\n",
       "| 5 | 0 | 1 | 1 | 1 | 1 | 1 | 1 | 1 | 1 | 1 | 1 |\n",
       "\n"
      ],
      "text/plain": [
       "  D.4004 D.4007 D.4079 D.4083 D.4472 D.4572 D.4617 D.483 D.488 D.4954 D.52\n",
       "0 0      1      0      0      0      0      1      0     0     0      0   \n",
       "1 1      0      1      0      0      0      1      1     1     1      1   \n",
       "2 1      1      0      1      0      1      1      1     1     1      0   \n",
       "3 1      1      1      1      0      1      1      1     1     1      1   \n",
       "4 1      0      1      1      0      1      0      0     1     0      1   \n",
       "5 0      1      1      1      1      1      1      1     1     1      1   "
      ]
     },
     "metadata": {},
     "output_type": "display_data"
    }
   ],
   "source": [
    "weather.series <- generateWeather(model.figure3c, n = 100)\n",
    "head(weather.series)"
   ]
  },
  {
   "cell_type": "markdown",
   "metadata": {},
   "source": [
    "The descriptive network can be used to generate samples using `rbn()` function from `bnlearn`."
   ]
  },
  {
   "cell_type": "code",
   "execution_count": 10,
   "metadata": {},
   "outputs": [
    {
     "data": {
      "text/html": [
       "<table>\n",
       "<caption>A data.frame: 6 × 11</caption>\n",
       "<thead>\n",
       "\t<tr><th></th><th scope=col>D.4004</th><th scope=col>D.4007</th><th scope=col>D.4079</th><th scope=col>D.4083</th><th scope=col>D.4472</th><th scope=col>D.4572</th><th scope=col>D.4617</th><th scope=col>D.483</th><th scope=col>D.488</th><th scope=col>D.4954</th><th scope=col>D.52</th></tr>\n",
       "\t<tr><th></th><th scope=col>&lt;fct&gt;</th><th scope=col>&lt;fct&gt;</th><th scope=col>&lt;fct&gt;</th><th scope=col>&lt;fct&gt;</th><th scope=col>&lt;fct&gt;</th><th scope=col>&lt;fct&gt;</th><th scope=col>&lt;fct&gt;</th><th scope=col>&lt;fct&gt;</th><th scope=col>&lt;fct&gt;</th><th scope=col>&lt;fct&gt;</th><th scope=col>&lt;fct&gt;</th></tr>\n",
       "</thead>\n",
       "<tbody>\n",
       "\t<tr><th scope=row>1</th><td>0</td><td>0</td><td>0</td><td>0</td><td>0</td><td>1</td><td>0</td><td>0</td><td>1</td><td>1</td><td>0</td></tr>\n",
       "\t<tr><th scope=row>2</th><td>1</td><td>0</td><td>1</td><td>1</td><td>1</td><td>1</td><td>1</td><td>1</td><td>1</td><td>1</td><td>1</td></tr>\n",
       "\t<tr><th scope=row>3</th><td>1</td><td>1</td><td>1</td><td>1</td><td>1</td><td>1</td><td>1</td><td>0</td><td>1</td><td>0</td><td>1</td></tr>\n",
       "\t<tr><th scope=row>4</th><td>0</td><td>0</td><td>0</td><td>0</td><td>0</td><td>0</td><td>0</td><td>1</td><td>1</td><td>0</td><td>0</td></tr>\n",
       "\t<tr><th scope=row>5</th><td>0</td><td>0</td><td>0</td><td>0</td><td>0</td><td>0</td><td>0</td><td>0</td><td>0</td><td>0</td><td>0</td></tr>\n",
       "\t<tr><th scope=row>6</th><td>0</td><td>0</td><td>0</td><td>1</td><td>1</td><td>0</td><td>1</td><td>0</td><td>0</td><td>1</td><td>0</td></tr>\n",
       "</tbody>\n",
       "</table>\n"
      ],
      "text/latex": [
       "A data.frame: 6 × 11\n",
       "\\begin{tabular}{r|lllllllllll}\n",
       "  & D.4004 & D.4007 & D.4079 & D.4083 & D.4472 & D.4572 & D.4617 & D.483 & D.488 & D.4954 & D.52\\\\\n",
       "  & <fct> & <fct> & <fct> & <fct> & <fct> & <fct> & <fct> & <fct> & <fct> & <fct> & <fct>\\\\\n",
       "\\hline\n",
       "\t1 & 0 & 0 & 0 & 0 & 0 & 1 & 0 & 0 & 1 & 1 & 0\\\\\n",
       "\t2 & 1 & 0 & 1 & 1 & 1 & 1 & 1 & 1 & 1 & 1 & 1\\\\\n",
       "\t3 & 1 & 1 & 1 & 1 & 1 & 1 & 1 & 0 & 1 & 0 & 1\\\\\n",
       "\t4 & 0 & 0 & 0 & 0 & 0 & 0 & 0 & 1 & 1 & 0 & 0\\\\\n",
       "\t5 & 0 & 0 & 0 & 0 & 0 & 0 & 0 & 0 & 0 & 0 & 0\\\\\n",
       "\t6 & 0 & 0 & 0 & 1 & 1 & 0 & 1 & 0 & 0 & 1 & 0\\\\\n",
       "\\end{tabular}\n"
      ],
      "text/markdown": [
       "\n",
       "A data.frame: 6 × 11\n",
       "\n",
       "| <!--/--> | D.4004 &lt;fct&gt; | D.4007 &lt;fct&gt; | D.4079 &lt;fct&gt; | D.4083 &lt;fct&gt; | D.4472 &lt;fct&gt; | D.4572 &lt;fct&gt; | D.4617 &lt;fct&gt; | D.483 &lt;fct&gt; | D.488 &lt;fct&gt; | D.4954 &lt;fct&gt; | D.52 &lt;fct&gt; |\n",
       "|---|---|---|---|---|---|---|---|---|---|---|---|\n",
       "| 1 | 0 | 0 | 0 | 0 | 0 | 1 | 0 | 0 | 1 | 1 | 0 |\n",
       "| 2 | 1 | 0 | 1 | 1 | 1 | 1 | 1 | 1 | 1 | 1 | 1 |\n",
       "| 3 | 1 | 1 | 1 | 1 | 1 | 1 | 1 | 0 | 1 | 0 | 1 |\n",
       "| 4 | 0 | 0 | 0 | 0 | 0 | 0 | 0 | 1 | 1 | 0 | 0 |\n",
       "| 5 | 0 | 0 | 0 | 0 | 0 | 0 | 0 | 0 | 0 | 0 | 0 |\n",
       "| 6 | 0 | 0 | 0 | 1 | 1 | 0 | 1 | 0 | 0 | 1 | 0 |\n",
       "\n"
      ],
      "text/plain": [
       "  D.4004 D.4007 D.4079 D.4083 D.4472 D.4572 D.4617 D.483 D.488 D.4954 D.52\n",
       "1 0      0      0      0      0      1      0      0     1     1      0   \n",
       "2 1      0      1      1      1      1      1      1     1     1      1   \n",
       "3 1      1      1      1      1      1      1      0     1     0      1   \n",
       "4 0      0      0      0      0      0      0      1     1     0      0   \n",
       "5 0      0      0      0      0      0      0      0     0     0      0   \n",
       "6 0      0      0      1      1      0      1      0     0     1      0   "
      ]
     },
     "metadata": {},
     "output_type": "display_data"
    }
   ],
   "source": [
    "spatially.consistent.observations <- rbn(descriptive$BN.fit, n = 10)\n",
    "head(spatially.consistent.observations)"
   ]
  }
 ],
 "metadata": {
  "kernelspec": {
   "display_name": "R",
   "language": "R",
   "name": "ir"
  },
  "language_info": {
   "codemirror_mode": "r",
   "file_extension": ".r",
   "mimetype": "text/x-r-source",
   "name": "R",
   "pygments_lexer": "r",
   "version": "3.6.2"
  }
 },
 "nbformat": 4,
 "nbformat_minor": 2
}
